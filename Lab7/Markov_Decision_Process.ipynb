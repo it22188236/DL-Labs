{
  "cells": [
    {
      "cell_type": "markdown",
      "metadata": {
        "id": "view-in-github",
        "colab_type": "text"
      },
      "source": [
        "<a href=\"https://colab.research.google.com/github/it22188236/DL-Labs/blob/main/Lab7/Markov_Decision_Process.ipynb\" target=\"_parent\"><img src=\"https://colab.research.google.com/assets/colab-badge.svg\" alt=\"Open In Colab\"/></a>"
      ]
    },
    {
      "cell_type": "markdown",
      "metadata": {
        "id": "-LMwDZHlsAvn"
      },
      "source": [
        "# Markov Decision Process (MDP)"
      ]
    },
    {
      "cell_type": "markdown",
      "metadata": {
        "id": "rK2etKh-sAvo"
      },
      "source": [
        "### Ransalu Senanayake"
      ]
    },
    {
      "cell_type": "code",
      "execution_count": 16,
      "metadata": {
        "id": "Tlr-PNcssAvp"
      },
      "outputs": [],
      "source": [
        "import copy\n",
        "import timeit\n",
        "import numpy as np\n",
        "import matplotlib.pyplot as pl\n",
        "%matplotlib inline\n",
        "from ipywidgets import interactive\n",
        "import ipywidgets as widgets"
      ]
    },
    {
      "cell_type": "markdown",
      "metadata": {
        "id": "_f6VSXlQsAvs"
      },
      "source": [
        "Create the following grid world.\n",
        "\n",
        "**States:** A 10x10 grid\n",
        "\n",
        "**Actions:** Up, Down, Left, Right\n",
        "\n",
        "**Tranistion probabilities:**\n",
        "* 0.7 in the direction of action\n",
        "* 0.1 in the three other directions\n",
        "* The robot bounces back to the same state near edges\n",
        "\n",
        "**Rewards:**\n",
        "* (7,8) has a reward +10\n",
        "* (2,7) has a reward +3\n",
        "* (4,3) has a reward -5\n",
        "* (7,3) has a reward -10\n",
        "* No reward in other states\n",
        "\n",
        "This example is based on Decision Making Under Uncertainty by M.J. Kochenderfer."
      ]
    },
    {
      "cell_type": "code",
      "execution_count": 17,
      "metadata": {
        "id": "sbT7VOEQsAvt"
      },
      "outputs": [],
      "source": [
        "#Let's define MDP paras\n",
        "def createGrid10World():\n",
        "    def xy2s(y, x):\n",
        "        x = max(x, 0)\n",
        "        y = max(y, 0)\n",
        "        x = min(x, 9)\n",
        "        y = min(y, 9)\n",
        "        out = np.ravel_multi_index(np.array([x,y]), (10,10))\n",
        "        return out\n",
        "\n",
        "    def s2xy(s):\n",
        "        x, y = np.unravel_index(s, (10,10))\n",
        "        return y, x\n",
        "\n",
        "    def gridPlot(ax, im, title='', cmap='Blues'):\n",
        "        pl.imshow(im, interpolation='none', cmap=cmap, origin='lower')\n",
        "        pl.colorbar()\n",
        "        ax.set_xticks(np.arange(0, 10, 1));\n",
        "        ax.set_yticks(np.arange(0, 10, 1));\n",
        "        ax.set_xticklabels(np.arange(0, 10, 1));\n",
        "        ax.set_yticklabels(np.arange(0, 10, 1));\n",
        "        ax.set_xticks(np.arange(-.5, 10, 1), minor=True);\n",
        "        ax.set_yticks(np.arange(-.5, 10, 1), minor=True);\n",
        "        ax.grid(which='minor', color='w', linestyle='-', linewidth=1)\n",
        "        pl.title(title);\n",
        "        return\n",
        "\n",
        "    A = ['left', 'right', 'up', 'down']\n",
        "    S = np.arange(100)\n",
        "    T = np.zeros((len(S), len(A), len(S)))\n",
        "    R = np.zeros((len(S), len(A)))\n",
        "    for s in S:\n",
        "        x, y = s2xy(s)\n",
        "        if x == 2 and y == 7:\n",
        "            R[s, :] = 3\n",
        "        elif x == 7 and y == 8:\n",
        "            R[s, :] = 10\n",
        "        else:\n",
        "            if x == 7 and y == 3:\n",
        "                R[s, :] = -10\n",
        "            elif x == 4 and y == 3:\n",
        "                R[s, :] = -5\n",
        "            elif x == 0:\n",
        "                if y == 0 or y == 9:\n",
        "                    R[s, :] = -0.2\n",
        "                else:\n",
        "                    R[s, :] = -0.1\n",
        "                R[s, 0] = -0.7\n",
        "            elif x == 9:\n",
        "                if y == 0 or y == 9:\n",
        "                    R[s, :] = -0.2\n",
        "                else:\n",
        "                    R[s, :] = -0.1\n",
        "                R[s, 1] = -0.7\n",
        "            elif y == 0:\n",
        "                if x == 0 or x == 9:\n",
        "                    R[s, :] = -0.2\n",
        "                else:\n",
        "                    R[s, :] = -0.1\n",
        "                R[s, 3] = -0.7\n",
        "            elif y == 9:\n",
        "                if x == 0 or x == 9:\n",
        "                    R[s, :] = -0.2\n",
        "                else:\n",
        "                    R[s, :] = -0.1\n",
        "                R[s, 2] = -0.7\n",
        "\n",
        "            for a in A:\n",
        "                if a == 'left':\n",
        "                    T[s, 0, xy2s(x - 1, y)] += 0.7\n",
        "                    T[s, 0, xy2s(x + 1, y)] += 0.1\n",
        "                    T[s, 0, xy2s(x, y - 1)] += 0.1\n",
        "                    T[s, 0, xy2s(x, y + 1)] += 0.1\n",
        "                elif a == 'right':\n",
        "                    T[s, 1, xy2s(x + 1, y)] += 0.7\n",
        "                    T[s, 1, xy2s(x - 1, y)] += 0.1\n",
        "                    T[s, 1, xy2s(x, y - 1)] += 0.1\n",
        "                    T[s, 1, xy2s(x, y + 1)] += 0.1\n",
        "                elif a == 'up':\n",
        "                    T[s, 2, xy2s(x, y + 1)] += 0.7\n",
        "                    T[s, 2, xy2s(x, y - 1)] += 0.1\n",
        "                    T[s, 2, xy2s(x - 1, y)] += 0.1\n",
        "                    T[s, 2, xy2s(x + 1, y)] += 0.1\n",
        "                elif a == 'down':\n",
        "                    T[s, 3, xy2s(x, y - 1)] += 0.7\n",
        "                    T[s, 3, xy2s(x, y + 1)] += 0.1\n",
        "                    T[s, 3, xy2s(x - 1, y)] += 0.1\n",
        "                    T[s, 3, xy2s(x + 1, y)] += 0.1\n",
        "\n",
        "    for a, c_x, c_y in [(0,0,0), (0,0,9),(1,9,0),(1,9,9),(2,0,9),(2,9,9),(3,0,0),(3,9,0)]:\n",
        "        R[xy2s(c_x,c_y),a] = -0.8\n",
        "\n",
        "    discount = 0.9\n",
        "\n",
        "    nextStates = {}\n",
        "    for si in range(len(S)):\n",
        "        for ai in range(len(A)):\n",
        "            nextStates[(si,ai)] = np.where((T[si, ai, :] != 0) == True)[0]\n",
        "\n",
        "    return {'S':S, 'A':A, 'T':T, 'R':R, 'discount':discount, 'nextStates':nextStates, 'gridPlot':gridPlot, 'xy2s':xy2s, 's2xy':s2xy}"
      ]
    },
    {
      "cell_type": "code",
      "execution_count": 18,
      "metadata": {
        "id": "BylriiRqsAvv"
      },
      "outputs": [],
      "source": [
        "class MDP():\n",
        "    def __init__(self):\n",
        "        pass\n",
        "\n",
        "    def inbuilt_init(self, mdp_dict):\n",
        "        self.S = mdp_dict['S']\n",
        "        self.A = mdp_dict['A']\n",
        "        self.T = mdp_dict['T']\n",
        "        self.R = mdp_dict['R']\n",
        "        self.discount = mdp_dict['discount']\n",
        "        self.nextStates = mdp_dict['nextStates']\n",
        "        self.gridPlot = mdp_dict['gridPlot']\n",
        "        self.xy2s = mdp_dict['xy2s']\n",
        "        self.s2xy = mdp_dict['s2xy']"
      ]
    },
    {
      "cell_type": "code",
      "execution_count": 19,
      "metadata": {
        "colab": {
          "base_uri": "https://localhost:8080/",
          "height": 1000
        },
        "id": "QGcCuJpasAvy",
        "outputId": "6ab6da4c-da6b-4b2b-bb68-9ad9a59047b2"
      },
      "outputs": [
        {
          "output_type": "display_data",
          "data": {
            "text/plain": [
              "<Figure size 300x300 with 2 Axes>"
            ],
            "image/png": "[encoded data removed]"
          },
          "metadata": {}
        },
        {
          "output_type": "display_data",
          "data": {
            "text/plain": [
              "<Figure size 1500x300 with 8 Axes>"
            ],
            "image/png": "[encoded data removed]"
          },
          "metadata": {}
        },
        {
          "output_type": "display_data",
          "data": {
            "text/plain": [
              "<Figure size 1500x300 with 8 Axes>"
            ],
            "image/png": "[encoded data removed]"
          },
          "metadata": {}
        },
        {
          "output_type": "display_data",
          "data": {
            "text/plain": [
              "<Figure size 1500x300 with 8 Axes>"
            ],
            "image/png": "[encoded data removed]"
          },
          "metadata": {}
        }
      ],
      "source": [
        "#Define the MDP\n",
        "mdp = MDP()\n",
        "mdp.inbuilt_init(mdp_dict=createGrid10World())\n",
        "\n",
        "#Plot states\n",
        "pl.figure(figsize=(3,3))\n",
        "mdp.gridPlot(ax=pl.gca(), im=mdp.S.reshape((10,10)), title='States', cmap='Greys')\n",
        "\n",
        "#Plot rewards\n",
        "pl.figure(figsize=(15,3))\n",
        "pl.suptitle('Rewards', fontsize=15)\n",
        "for a in range(4):\n",
        "    pl.subplot(1,4,a+1)\n",
        "    mdp.gridPlot(ax=pl.gca(), im=mdp.R[:,a].reshape((10,10)), title='a='+mdp.A[a], cmap='jet')\n",
        "pl.show()\n",
        "\n",
        "#Plot rewards\n",
        "pl.figure(figsize=(15,3))\n",
        "pl.suptitle('Rewards - clipped larger +ve values for visualizing the edges', fontsize=15)\n",
        "for a in range(4):\n",
        "    pl.subplot(1,4,a+1)\n",
        "    mdp.gridPlot(ax=pl.gca(), im=np.clip(mdp.R[:,a].reshape((10,10)), -1, -0.5), title='a='+mdp.A[a], cmap='jet')\n",
        "pl.show()\n",
        "\n",
        "#Plot rewards\n",
        "s0_x, s0_y = 3, 5\n",
        "s0 = mdp.xy2s(s0_x, s0_y)\n",
        "pl.figure(figsize=(15,3))\n",
        "pl.suptitle('Transition probabilities T(s1|s0=({},{}),a)'.format(s0_x, s0_y), fontsize=15)\n",
        "for a in range(4):\n",
        "    pl.subplot(1,4,a+1)\n",
        "    mdp.gridPlot(ax=pl.gca(), im=mdp.T[s0,a,:].reshape((10,10)), title='a='+mdp.A[a], cmap='Blues')\n",
        "pl.show()"
      ]
    },
    {
      "cell_type": "code",
      "execution_count": 20,
      "metadata": {
        "colab": {
          "base_uri": "https://localhost:8080/",
          "height": 609,
          "referenced_widgets": [
            "0eb5f0d44ba04e549bc5806a21f7b4b6",
            "d2f319496bd54b6ca6dcc93830069123",
            "a612fb2d3be249b3910ef75712673d5b",
            "29315a0ae32a48b396b0ddcc30f91a69",
            "3bce89935e04420ea2da0d1e79e96690",
            "dc24fb7d76de41cc9fd510e32a76a7e2",
            "d1b7577a6b4147b1b7aa93d45cf5cc68",
            "22c5212e96e6474a9fcd20a799d2b737",
            "f85dd5792ce546e4a0feaca4f83a68b0",
            "e90ce1d041e34605bdc71c6ea0749d8f",
            "1b71e9f950b94daaba857a8f99f5688a",
            "9e155a55307442e6b0b0276f9631375d",
            "087133257234457eb0c3355c4ce41793"
          ]
        },
        "id": "WSh9F6O2sAv1",
        "outputId": "2a6a6d4a-8e3c-4d73-9cd3-51bfd5a849d9"
      },
      "outputs": [
        {
          "output_type": "display_data",
          "data": {
            "text/plain": [
              "interactive(children=(Text(value='4', description='s0_x'), Text(value='5', description='s0_y'), ToggleButtons(…"
            ],
            "application/vnd.jupyter.widget-view+json": {
              "version_major": 2,
              "version_minor": 0,
              "model_id": "0eb5f0d44ba04e549bc5806a21f7b4b6"
            }
          },
          "metadata": {}
        }
      ],
      "source": [
        "#An interactive plot of transition probabilities\n",
        "def f(s0_x, s0_y, action):\n",
        "    a = mdp.A.index(action)\n",
        "    s0 = mdp.xy2s(int(s0_x), int(s0_y))\n",
        "    pl.figure(figsize=(6,6))\n",
        "    title = 'Transition probabilities T(s1|s0=({},{}),a={})'.format(int(s0_x),int(s0_y),action)\n",
        "    mdp.gridPlot(ax=pl.gca(), im=mdp.T[s0,a,:].reshape((10,10)), title=title, cmap='Blues')\n",
        "    pl.show()\n",
        "\n",
        "interactive_plot = interactive(f, s0_x='4', s0_y='5', action=widgets.ToggleButtons(options=['left', 'right', 'up', 'down']))\n",
        "interactive_plot"
      ]
    },
    {
      "cell_type": "markdown",
      "metadata": {
        "id": "CRtcTdgOsAv4"
      },
      "source": [
        "### 1. Policy evaluation\n",
        "\n",
        "Computing the utility, U.\n",
        "\n",
        "$U^\\pi_k(s) = R(s, \\pi(s)) + \\gamma \\sum_{s'} T(s' \\mid s, \\pi(s))U^\\pi_{k-1}(s')$"
      ]
    },
    {
      "cell_type": "code",
      "execution_count": 21,
      "metadata": {
        "colab": {
          "base_uri": "https://localhost:8080/",
          "height": 307
        },
        "id": "cT2yS--rsAv4",
        "outputId": "f81e1683-549e-482a-f465-e4aea2956b46"
      },
      "outputs": [
        {
          "output_type": "display_data",
          "data": {
            "text/plain": [
              "<Figure size 1500x300 with 8 Axes>"
            ],
            "image/png": "[encoded data removed]"
          },
          "metadata": {}
        }
      ],
      "source": [
        "def iterativePolicyEvaluation(mdp, policy, numIterations=10):\n",
        "    U = np.zeros(len(mdp.S))\n",
        "    U_old = copy.copy(U)\n",
        "    for t in range(numIterations):\n",
        "        U_old = copy.copy(U)\n",
        "        for s in mdp.S:\n",
        "            U[s] = mdp.R[s, policy] + mdp.discount * np.sum(mdp.T[s, policy, :] * U_old)\n",
        "            return U\n",
        "\n",
        "numIterations = 5\n",
        "pl.figure(figsize=(15,3))\n",
        "pl.suptitle('Utilities', fontsize=15)\n",
        "for a in range(4):\n",
        "    pl.subplot(1,4,a+1)\n",
        "    U = iterativePolicyEvaluation(mdp=mdp, policy=a, numIterations=numIterations)\n",
        "    mdp.gridPlot(ax=pl.gca(), im=U.reshape(10,10), title='a='+mdp.A[a], cmap='jet')\n",
        "pl.show()\n",
        "#print(np.round(U.reshape(10,10),3))"
      ]
    },
    {
      "cell_type": "code",
      "execution_count": 22,
      "metadata": {
        "colab": {
          "base_uri": "https://localhost:8080/",
          "height": 626,
          "referenced_widgets": [
            "6509f2d190a649c8900aa76f60fccfc3",
            "b9a30dc9419c44969072548ae8076902",
            "4f690116dced41319cb00078b84d5512",
            "1490e35223b34a93bb4ac639ef40d744",
            "507f48c839ee497c83205d2359c93494",
            "92a6157a738e4c4a9a44bd857c15f7fc",
            "c0440d10b96740a595135460a8fd9a14",
            "b110937eaaaf4d4b9a47a08935530a2c",
            "3c2c173fcb6745bfbe12d33c27e4488a",
            "f6f723ce796a4ed19cba16c4bd713060"
          ]
        },
        "id": "XcMijKgbsAv7",
        "outputId": "a8802ccc-335f-4a49-a7b1-d1016c5d049f"
      },
      "outputs": [
        {
          "output_type": "display_data",
          "data": {
            "text/plain": [
              "interactive(children=(ToggleButtons(description='action', options=('left', 'right', 'up', 'down'), value='left…"
            ],
            "application/vnd.jupyter.widget-view+json": {
              "version_major": 2,
              "version_minor": 0,
              "model_id": "6509f2d190a649c8900aa76f60fccfc3"
            }
          },
          "metadata": {}
        },
        {
          "output_type": "display_data",
          "data": {
            "text/plain": [
              "<Figure size 300x300 with 1 Axes>"
            ],
            "image/png": "[encoded data removed]"
          },
          "metadata": {}
        }
      ],
      "source": [
        "def f(action, numIter=1):\n",
        "    U = iterativePolicyEvaluation(mdp, policy=mdp.A.index(action), numIterations=numIter)\n",
        "    pl.figure(figsize=(3,3))\n",
        "    mdp.gridPlot(ax=pl.gca(), im=U.reshape(10,10), title='Utility', cmap='jet')\n",
        "    pl.show()\n",
        "\n",
        "interactive_plot = interactive(f, action=widgets.ToggleButtons(options=['left', 'right', 'up', 'down']),\n",
        "                               numIter=widgets.IntSlider(min=0, max=20, step=1, value=0))\n",
        "interactive_plot"
      ]
    },
    {
      "cell_type": "code",
      "execution_count": 23,
      "metadata": {
        "colab": {
          "base_uri": "https://localhost:8080/",
          "height": 282
        },
        "id": "-L8qvyKAsAv9",
        "outputId": "63e0fb8d-5cfb-478e-8e25-4d6eced9e22a"
      },
      "outputs": [
        {
          "output_type": "display_data",
          "data": {
            "text/plain": [
              "<Figure size 300x300 with 2 Axes>"
            ],
            "image/png": "[encoded data removed]"
          },
          "metadata": {}
        }
      ],
      "source": [
        "#Value iteration\n",
        "def valueIteration(mdp, numIterations=1):\n",
        "    U = np.zeros(len(mdp.S))\n",
        "    U_old = copy.copy(U)\n",
        "    for t in range(numIterations):\n",
        "        U_old = copy.copy(U)\n",
        "        for s in mdp.S:\n",
        "            U[s] = max([mdp.R[s, a] + mdp.discount * np.sum(mdp.T[s, a, :] * U_old)\n",
        "                        for a in range(len(mdp.A))])\n",
        "    return U\n",
        "\n",
        "def policyExtration(mdp, U):\n",
        "    policy = np.zeros(len(mdp.S))\n",
        "    for s in mdp.S:\n",
        "        policy[s] = np.argmax([mdp.R[s, a] + mdp.discount * np.sum(mdp.T[s, a, :] * U)\n",
        "                               for a in range(len(mdp.A))])\n",
        "    return policy\n",
        "\n",
        "U = valueIteration(mdp, numIterations=2)\n",
        "policy = policyExtration(mdp, U=U)\n",
        "pl.figure(figsize=(3,3))\n",
        "mdp.gridPlot(ax=pl.gca(), im=U.reshape(10,10), title='Utility', cmap='jet')\n",
        "for s in range(100):\n",
        "    x, y = mdp.s2xy(s)\n",
        "    if policy[s] == 0:\n",
        "        m='\\u02C2'\n",
        "    elif policy[s] == 1:\n",
        "        m='\\u02C3'\n",
        "    elif policy[s] == 2:\n",
        "        m='\\u02C4'\n",
        "    elif policy[s] == 3:\n",
        "        m='\\u02C5'\n",
        "    pl.text(x-0.5,y-1,m,color='k',size=20)\n",
        "pl.show()"
      ]
    },
    {
      "cell_type": "code",
      "execution_count": 24,
      "metadata": {
        "colab": {
          "base_uri": "https://localhost:8080/",
          "height": 331,
          "referenced_widgets": [
            "fa7bee5455d04a7a996cceb1ad05c324",
            "4ccf9800d1d84cfe9d244d069c0bc9d9",
            "ffd12dc83af54be38f618dd13f9f626c",
            "277e44b804274c9fa0dc900033827c67",
            "73079c274dfa4f9da5c6513bb46bbd6f",
            "c48bcff2d7124bc585a2e9cc3c95cf75",
            "8651ffef6afc4df590772c022fedae68"
          ]
        },
        "id": "W7Hvi7YdsAv_",
        "outputId": "f30843e9-787f-4b51-e7b4-3198060488ae"
      },
      "outputs": [
        {
          "output_type": "display_data",
          "data": {
            "text/plain": [
              "interactive(children=(IntSlider(value=0, description='numIter', max=20), Output()), _dom_classes=('widget-inte…"
            ],
            "application/vnd.jupyter.widget-view+json": {
              "version_major": 2,
              "version_minor": 0,
              "model_id": "fa7bee5455d04a7a996cceb1ad05c324"
            }
          },
          "metadata": {}
        }
      ],
      "source": [
        "def f(numIter=1):\n",
        "    start_time = timeit.default_timer()\n",
        "    U = valueIteration(mdp, numIterations=numIter)\n",
        "    policy = policyExtration(mdp, U=U)\n",
        "    elapsed = timeit.default_timer() - start_time\n",
        "    print('time=', np.round(elapsed*1000,2))\n",
        "    pl.figure(figsize=(3,3))\n",
        "    mdp.gridPlot(ax=pl.gca(), im=U.reshape(10,10), title='Utility', cmap='jet')\n",
        "    for s in range(100):\n",
        "        x, y = mdp.s2xy(s)\n",
        "        if policy[s] == 0:\n",
        "            m='\\u02C2'\n",
        "        elif policy[s] == 1:\n",
        "            m='\\u02C3'\n",
        "        elif policy[s] == 2:\n",
        "            m='\\u02C4'\n",
        "        elif policy[s] == 3:\n",
        "            m='\\u02C5'\n",
        "        pl.text(x-0.5,y-1,m,color='k',size=20)\n",
        "    pl.show()\n",
        "\n",
        "interactive_plot = interactive(f, numIter=widgets.IntSlider(min=0, max=20, step=1, value=0))\n",
        "interactive_plot"
      ]
    },
    {
      "cell_type": "markdown",
      "metadata": {
        "id": "6il1i5CesAwB"
      },
      "source": [
        "### 2. Policy iteration\n",
        "\n",
        "Policy evaluation can be used in policy iteration:\n",
        "1. Given the current policy, compute U\n",
        "2. Using U, compute a new policy"
      ]
    },
    {
      "cell_type": "code",
      "execution_count": 25,
      "metadata": {
        "id": "5VzzQB0jsAwC"
      },
      "outputs": [],
      "source": [
        "def policyIteration(mdp, numIterations=1):\n",
        "    U_pi_k = np.zeros(len(mdp.S)) #initial values\n",
        "    pi_k = np.random.randint(low=0, high=4, size=len(mdp.S), dtype=int) #initial policy\n",
        "    pi_kp1 = copy.copy(pi_k)\n",
        "    for t in range(numIterations):\n",
        "\n",
        "        for _ in range(10):\n",
        "            U_old = copy.copy(U_pi_k)\n",
        "            for s in mdp.S:\n",
        "                U_pi_k[s] = mdp.R[s, pi_k[s]] + mdp.discount * np.sum(mdp.T[s, pi_k[s], :] * U_old)\n",
        "\n",
        "        for s in mdp.S:\n",
        "            pi_kp1[s] = np.argmax([mdp.R[s, a] + mdp.discount * np.sum(mdp.T[s, a, :] * U_pi_k)\n",
        "                                   for a in range(len(mdp.A))])\n",
        "        pi_k = copy.copy(pi_kp1)\n",
        "    return U_pi_k, pi_kp1\n",
        "\n",
        "U_pi_k, pi_kp1 = policyIteration(mdp, numIterations=2)"
      ]
    },
    {
      "cell_type": "code",
      "execution_count": 26,
      "metadata": {
        "colab": {
          "base_uri": "https://localhost:8080/",
          "height": 331,
          "referenced_widgets": [
            "163f53905934465785047ded6abbea28",
            "50a5c5150f4e4c1aa3a27a67d915436c",
            "271e8d080d774c309a28d524f1f6bbfa",
            "935a8e0df55d4ecfa29ea8007daf35da",
            "a7338a0a6ba346608946433df18c4215",
            "4309636573b642a7b7d3b668df2bf347",
            "bf8ca1886ebb4d339df817860e82281b"
          ]
        },
        "id": "lSHVZ0CwsAwE",
        "outputId": "5e7c8c8f-8bde-405a-cd05-82a28b5a2756"
      },
      "outputs": [
        {
          "output_type": "display_data",
          "data": {
            "text/plain": [
              "interactive(children=(IntSlider(value=0, description='numIter', max=20), Output()), _dom_classes=('widget-inte…"
            ],
            "application/vnd.jupyter.widget-view+json": {
              "version_major": 2,
              "version_minor": 0,
              "model_id": "163f53905934465785047ded6abbea28"
            }
          },
          "metadata": {}
        }
      ],
      "source": [
        "def f(numIter=1):\n",
        "    start_time = timeit.default_timer()\n",
        "    # code you want to evaluate\n",
        "    value, policy = policyIteration(mdp, numIterations=numIter)\n",
        "    elapsed = timeit.default_timer() - start_time\n",
        "    print('time=', np.round(elapsed*1000,2))\n",
        "    pl.figure(figsize=(3,3))\n",
        "    mdp.gridPlot(ax=pl.gca(), im=value.reshape(10,10), title='Utility', cmap='jet')\n",
        "    for s in range(100):\n",
        "        x, y = mdp.s2xy(s)\n",
        "        if policy[s] == 0:\n",
        "            m='\\u02C2'\n",
        "        elif policy[s] == 1:\n",
        "            m='\\u02C3'\n",
        "        elif policy[s] == 2:\n",
        "            m='\\u02C4'\n",
        "        elif policy[s] == 3:\n",
        "            m='\\u02C5'\n",
        "        pl.text(x-0.5,y-1,m,color='k',size=20)\n",
        "    pl.show()\n",
        "\n",
        "interactive_plot = interactive(f, numIter=widgets.IntSlider(min=0, max=20, step=1, value=0))\n",
        "interactive_plot"
      ]
    }
  ],
  "metadata": {
    "@webio": {
      "lastCommId": "21E8675012EB469B8DD225E5191E1594",
      "lastKernelId": "ec90fbfa-47cf-4656-a1ce-4ca4670e6701"
    },
    "colab": {
      "provenance": [],
      "include_colab_link": true
    },
    "kernelspec": {
      "display_name": "Python 3",
      "language": "python",
      "name": "python3"
    },
    "language_info": {
      "codemirror_mode": {
        "name": "ipython",
        "version": 3
      },
      "file_extension": ".py",
      "mimetype": "text/x-python",
      "name": "python",
      "nbconvert_exporter": "python",
      "pygments_lexer": "ipython3",
      "version": "3.8.8"
    },
    "widgets": {
      "application/vnd.jupyter.widget-state+json": {
        "0eb5f0d44ba04e549bc5806a21f7b4b6": {
          "model_module": "@jupyter-widgets/controls",
          "model_name": "VBoxModel",
          "model_module_version": "1.5.0",
          "state": {
            "_dom_classes": [
              "widget-interact"
            ],
            "_model_module": "@jupyter-widgets/controls",
            "_model_module_version": "1.5.0",
            "_model_name": "VBoxModel",
            "_view_count": null,
            "_view_module": "@jupyter-widgets/controls",
            "_view_module_version": "1.5.0",
            "_view_name": "VBoxView",
            "box_style": "",
            "children": [
              "IPY_MODEL_d2f319496bd54b6ca6dcc93830069123",
              "IPY_MODEL_a612fb2d3be249b3910ef75712673d5b",
              "IPY_MODEL_29315a0ae32a48b396b0ddcc30f91a69",
              "IPY_MODEL_3bce89935e04420ea2da0d1e79e96690"
            ],
            "layout": "IPY_MODEL_dc24fb7d76de41cc9fd510e32a76a7e2"
          }
        },
        "d2f319496bd54b6ca6dcc93830069123": {
          "model_module": "@jupyter-widgets/controls",
          "model_name": "TextModel",
          "model_module_version": "1.5.0",
          "state": {
            "_dom_classes": [],
            "_model_module": "@jupyter-widgets/controls",
            "_model_module_version": "1.5.0",
            "_model_name": "TextModel",
            "_view_count": null,
            "_view_module": "@jupyter-widgets/controls",
            "_view_module_version": "1.5.0",
            "_view_name": "TextView",
            "continuous_update": true,
            "description": "s0_x",
            "description_tooltip": null,
            "disabled": false,
            "layout": "IPY_MODEL_d1b7577a6b4147b1b7aa93d45cf5cc68",
            "placeholder": "​",
            "style": "IPY_MODEL_22c5212e96e6474a9fcd20a799d2b737",
            "value": "4"
          }
        },
        "a612fb2d3be249b3910ef75712673d5b": {
          "model_module": "@jupyter-widgets/controls",
          "model_name": "TextModel",
          "model_module_version": "1.5.0",
          "state": {
            "_dom_classes": [],
            "_model_module": "@jupyter-widgets/controls",
            "_model_module_version": "1.5.0",
            "_model_name": "TextModel",
            "_view_count": null,
            "_view_module": "@jupyter-widgets/controls",
            "_view_module_version": "1.5.0",
            "_view_name": "TextView",
            "continuous_update": true,
            "description": "s0_y",
            "description_tooltip": null,
            "disabled": false,
            "layout": "IPY_MODEL_f85dd5792ce546e4a0feaca4f83a68b0",
            "placeholder": "​",
            "style": "IPY_MODEL_e90ce1d041e34605bdc71c6ea0749d8f",
            "value": "5"
          }
        },
        "29315a0ae32a48b396b0ddcc30f91a69": {
          "model_module": "@jupyter-widgets/controls",
          "model_name": "ToggleButtonsModel",
          "model_module_version": "1.5.0",
          "state": {
            "_dom_classes": [],
            "_model_module": "@jupyter-widgets/controls",
            "_model_module_version": "1.5.0",
            "_model_name": "ToggleButtonsModel",
            "_options_labels": [
              "left",
              "right",
              "up",
              "down"
            ],
            "_view_count": null,
            "_view_module": "@jupyter-widgets/controls",
            "_view_module_version": "1.5.0",
            "_view_name": "ToggleButtonsView",
            "button_style": "",
            "description": "action",
            "description_tooltip": null,
            "disabled": false,
            "icons": [],
            "index": 0,
            "layout": "IPY_MODEL_1b71e9f950b94daaba857a8f99f5688a",
            "style": "IPY_MODEL_9e155a55307442e6b0b0276f9631375d",
            "tooltips": []
          }
        },
        "3bce89935e04420ea2da0d1e79e96690": {
          "model_module": "@jupyter-widgets/output",
          "model_name": "OutputModel",
          "model_module_version": "1.0.0",
          "state": {
            "_dom_classes": [],
            "_model_module": "@jupyter-widgets/output",
            "_model_module_version": "1.0.0",
            "_model_name": "OutputModel",
            "_view_count": null,
            "_view_module": "@jupyter-widgets/output",
            "_view_module_version": "1.0.0",
            "_view_name": "OutputView",
            "layout": "IPY_MODEL_087133257234457eb0c3355c4ce41793",
            "msg_id": "",
            "outputs": [
              {
                "output_type": "display_data",
                "data": {
                  "text/plain": "<Figure size 600x600 with 2 Axes>",
                  "image/png": "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\n"
                },
                "metadata": {}
              }
            ]
          }
        },
        "dc24fb7d76de41cc9fd510e32a76a7e2": {
          "model_module": "@jupyter-widgets/base",
          "model_name": "LayoutModel",
          "model_module_version": "1.2.0",
          "state": {
            "_model_module": "@jupyter-widgets/base",
            "_model_module_version": "1.2.0",
            "_model_name": "LayoutModel",
            "_view_count": null,
            "_view_module": "@jupyter-widgets/base",
            "_view_module_version": "1.2.0",
            "_view_name": "LayoutView",
            "align_content": null,
            "align_items": null,
            "align_self": null,
            "border": null,
            "bottom": null,
            "display": null,
            "flex": null,
            "flex_flow": null,
            "grid_area": null,
            "grid_auto_columns": null,
            "grid_auto_flow": null,
            "grid_auto_rows": null,
            "grid_column": null,
            "grid_gap": null,
            "grid_row": null,
            "grid_template_areas": null,
            "grid_template_columns": null,
            "grid_template_rows": null,
            "height": null,
            "justify_content": null,
            "justify_items": null,
            "left": null,
            "margin": null,
            "max_height": null,
            "max_width": null,
            "min_height": null,
            "min_width": null,
            "object_fit": null,
            "object_position": null,
            "order": null,
            "overflow": null,
            "overflow_x": null,
            "overflow_y": null,
            "padding": null,
            "right": null,
            "top": null,
            "visibility": null,
            "width": null
          }
        },
        "d1b7577a6b4147b1b7aa93d45cf5cc68": {
          "model_module": "@jupyter-widgets/base",
          "model_name": "LayoutModel",
          "model_module_version": "1.2.0",
          "state": {
            "_model_module": "@jupyter-widgets/base",
            "_model_module_version": "1.2.0",
            "_model_name": "LayoutModel",
            "_view_count": null,
            "_view_module": "@jupyter-widgets/base",
            "_view_module_version": "1.2.0",
            "_view_name": "LayoutView",
            "align_content": null,
            "align_items": null,
            "align_self": null,
            "border": null,
            "bottom": null,
            "display": null,
            "flex": null,
            "flex_flow": null,
            "grid_area": null,
            "grid_auto_columns": null,
            "grid_auto_flow": null,
            "grid_auto_rows": null,
            "grid_column": null,
            "grid_gap": null,
            "grid_row": null,
            "grid_template_areas": null,
            "grid_template_columns": null,
            "grid_template_rows": null,
            "height": null,
            "justify_content": null,
            "justify_items": null,
            "left": null,
            "margin": null,
            "max_height": null,
            "max_width": null,
            "min_height": null,
            "min_width": null,
            "object_fit": null,
            "object_position": null,
            "order": null,
            "overflow": null,
            "overflow_x": null,
            "overflow_y": null,
            "padding": null,
            "right": null,
            "top": null,
            "visibility": null,
            "width": null
          }
        },
        "22c5212e96e6474a9fcd20a799d2b737": {
          "model_module": "@jupyter-widgets/controls",
          "model_name": "DescriptionStyleModel",
          "model_module_version": "1.5.0",
          "state": {
            "_model_module": "@jupyter-widgets/controls",
            "_model_module_version": "1.5.0",
            "_model_name": "DescriptionStyleModel",
            "_view_count": null,
            "_view_module": "@jupyter-widgets/base",
            "_view_module_version": "1.2.0",
            "_view_name": "StyleView",
            "description_width": ""
          }
        },
        "f85dd5792ce546e4a0feaca4f83a68b0": {
          "model_module": "@jupyter-widgets/base",
          "model_name": "LayoutModel",
          "model_module_version": "1.2.0",
          "state": {
            "_model_module": "@jupyter-widgets/base",
            "_model_module_version": "1.2.0",
            "_model_name": "LayoutModel",
            "_view_count": null,
            "_view_module": "@jupyter-widgets/base",
            "_view_module_version": "1.2.0",
            "_view_name": "LayoutView",
            "align_content": null,
            "align_items": null,
            "align_self": null,
            "border": null,
            "bottom": null,
            "display": null,
            "flex": null,
            "flex_flow": null,
            "grid_area": null,
            "grid_auto_columns": null,
            "grid_auto_flow": null,
            "grid_auto_rows": null,
            "grid_column": null,
            "grid_gap": null,
            "grid_row": null,
            "grid_template_areas": null,
            "grid_template_columns": null,
            "grid_template_rows": null,
            "height": null,
            "justify_content": null,
            "justify_items": null,
            "left": null,
            "margin": null,
            "max_height": null,
            "max_width": null,
            "min_height": null,
            "min_width": null,
            "object_fit": null,
            "object_position": null,
            "order": null,
            "overflow": null,
            "overflow_x": null,
            "overflow_y": null,
            "padding": null,
            "right": null,
            "top": null,
            "visibility": null,
            "width": null
          }
        },
        "e90ce1d041e34605bdc71c6ea0749d8f": {
          "model_module": "@jupyter-widgets/controls",
          "model_name": "DescriptionStyleModel",
          "model_module_version": "1.5.0",
          "state": {
            "_model_module": "@jupyter-widgets/controls",
            "_model_module_version": "1.5.0",
            "_model_name": "DescriptionStyleModel",
            "_view_count": null,
            "_view_module": "@jupyter-widgets/base",
            "_view_module_version": "1.2.0",
            "_view_name": "StyleView",
            "description_width": ""
          }
        },
        "1b71e9f950b94daaba857a8f99f5688a": {
          "model_module": "@jupyter-widgets/base",
          "model_name": "LayoutModel",
          "model_module_version": "1.2.0",
          "state": {
            "_model_module": "@jupyter-widgets/base",
            "_model_module_version": "1.2.0",
            "_model_name": "LayoutModel",
            "_view_count": null,
            "_view_module": "@jupyter-widgets/base",
            "_view_module_version": "1.2.0",
            "_view_name": "LayoutView",
            "align_content": null,
            "align_items": null,
            "align_self": null,
            "border": null,
            "bottom": null,
            "display": null,
            "flex": null,
            "flex_flow": null,
            "grid_area": null,
            "grid_auto_columns": null,
            "grid_auto_flow": null,
            "grid_auto_rows": null,
            "grid_column": null,
            "grid_gap": null,
            "grid_row": null,
            "grid_template_areas": null,
            "grid_template_columns": null,
            "grid_template_rows": null,
            "height": null,
            "justify_content": null,
            "justify_items": null,
            "left": null,
            "margin": null,
            "max_height": null,
            "max_width": null,
            "min_height": null,
            "min_width": null,
            "object_fit": null,
            "object_position": null,
            "order": null,
            "overflow": null,
            "overflow_x": null,
            "overflow_y": null,
            "padding": null,
            "right": null,
            "top": null,
            "visibility": null,
            "width": null
          }
        },
        "9e155a55307442e6b0b0276f9631375d": {
          "model_module": "@jupyter-widgets/controls",
          "model_name": "ToggleButtonsStyleModel",
          "model_module_version": "1.5.0",
          "state": {
            "_model_module": "@jupyter-widgets/controls",
            "_model_module_version": "1.5.0",
            "_model_name": "ToggleButtonsStyleModel",
            "_view_count": null,
            "_view_module": "@jupyter-widgets/base",
            "_view_module_version": "1.2.0",
            "_view_name": "StyleView",
            "button_width": "",
            "description_width": "",
            "font_weight": ""
          }
        },
        "087133257234457eb0c3355c4ce41793": {
          "model_module": "@jupyter-widgets/base",
          "model_name": "LayoutModel",
          "model_module_version": "1.2.0",
          "state": {
            "_model_module": "@jupyter-widgets/base",
            "_model_module_version": "1.2.0",
            "_model_name": "LayoutModel",
            "_view_count": null,
            "_view_module": "@jupyter-widgets/base",
            "_view_module_version": "1.2.0",
            "_view_name": "LayoutView",
            "align_content": null,
            "align_items": null,
            "align_self": null,
            "border": null,
            "bottom": null,
            "display": null,
            "flex": null,
            "flex_flow": null,
            "grid_area": null,
            "grid_auto_columns": null,
            "grid_auto_flow": null,
            "grid_auto_rows": null,
            "grid_column": null,
            "grid_gap": null,
            "grid_row": null,
            "grid_template_areas": null,
            "grid_template_columns": null,
            "grid_template_rows": null,
            "height": null,
            "justify_content": null,
            "justify_items": null,
            "left": null,
            "margin": null,
            "max_height": null,
            "max_width": null,
            "min_height": null,
            "min_width": null,
            "object_fit": null,
            "object_position": null,
            "order": null,
            "overflow": null,
            "overflow_x": null,
            "overflow_y": null,
            "padding": null,
            "right": null,
            "top": null,
            "visibility": null,
            "width": null
          }
        },
        "6509f2d190a649c8900aa76f60fccfc3": {
          "model_module": "@jupyter-widgets/controls",
          "model_name": "VBoxModel",
          "model_module_version": "1.5.0",
          "state": {
            "_dom_classes": [
              "widget-interact"
            ],
            "_model_module": "@jupyter-widgets/controls",
            "_model_module_version": "1.5.0",
            "_model_name": "VBoxModel",
            "_view_count": null,
            "_view_module": "@jupyter-widgets/controls",
            "_view_module_version": "1.5.0",
            "_view_name": "VBoxView",
            "box_style": "",
            "children": [
              "IPY_MODEL_b9a30dc9419c44969072548ae8076902",
              "IPY_MODEL_4f690116dced41319cb00078b84d5512",
              "IPY_MODEL_1490e35223b34a93bb4ac639ef40d744"
            ],
            "layout": "IPY_MODEL_507f48c839ee497c83205d2359c93494"
          }
        },
        "b9a30dc9419c44969072548ae8076902": {
          "model_module": "@jupyter-widgets/controls",
          "model_name": "ToggleButtonsModel",
          "model_module_version": "1.5.0",
          "state": {
            "_dom_classes": [],
            "_model_module": "@jupyter-widgets/controls",
            "_model_module_version": "1.5.0",
            "_model_name": "ToggleButtonsModel",
            "_options_labels": [
              "left",
              "right",
              "up",
              "down"
            ],
            "_view_count": null,
            "_view_module": "@jupyter-widgets/controls",
            "_view_module_version": "1.5.0",
            "_view_name": "ToggleButtonsView",
            "button_style": "",
            "description": "action",
            "description_tooltip": null,
            "disabled": false,
            "icons": [],
            "index": 0,
            "layout": "IPY_MODEL_92a6157a738e4c4a9a44bd857c15f7fc",
            "style": "IPY_MODEL_c0440d10b96740a595135460a8fd9a14",
            "tooltips": []
          }
        },
        "4f690116dced41319cb00078b84d5512": {
          "model_module": "@jupyter-widgets/controls",
          "model_name": "IntSliderModel",
          "model_module_version": "1.5.0",
          "state": {
            "_dom_classes": [],
            "_model_module": "@jupyter-widgets/controls",
            "_model_module_version": "1.5.0",
            "_model_name": "IntSliderModel",
            "_view_count": null,
            "_view_module": "@jupyter-widgets/controls",
            "_view_module_version": "1.5.0",
            "_view_name": "IntSliderView",
            "continuous_update": true,
            "description": "numIter",
            "description_tooltip": null,
            "disabled": false,
            "layout": "IPY_MODEL_b110937eaaaf4d4b9a47a08935530a2c",
            "max": 20,
            "min": 0,
            "orientation": "horizontal",
            "readout": true,
            "readout_format": "d",
            "step": 1,
            "style": "IPY_MODEL_3c2c173fcb6745bfbe12d33c27e4488a",
            "value": 1
          }
        },
        "1490e35223b34a93bb4ac639ef40d744": {
          "model_module": "@jupyter-widgets/output",
          "model_name": "OutputModel",
          "model_module_version": "1.0.0",
          "state": {
            "_dom_classes": [],
            "_model_module": "@jupyter-widgets/output",
            "_model_module_version": "1.0.0",
            "_model_name": "OutputModel",
            "_view_count": null,
            "_view_module": "@jupyter-widgets/output",
            "_view_module_version": "1.0.0",
            "_view_name": "OutputView",
            "layout": "IPY_MODEL_f6f723ce796a4ed19cba16c4bd713060",
            "msg_id": "",
            "outputs": [
              {
                "output_type": "display_data",
                "data": {
                  "text/plain": "<Figure size 300x300 with 2 Axes>",
                  "image/png": "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\n"
                },
                "metadata": {}
              }
            ]
          }
        },
        "507f48c839ee497c83205d2359c93494": {
          "model_module": "@jupyter-widgets/base",
          "model_name": "LayoutModel",
          "model_module_version": "1.2.0",
          "state": {
            "_model_module": "@jupyter-widgets/base",
            "_model_module_version": "1.2.0",
            "_model_name": "LayoutModel",
            "_view_count": null,
            "_view_module": "@jupyter-widgets/base",
            "_view_module_version": "1.2.0",
            "_view_name": "LayoutView",
            "align_content": null,
            "align_items": null,
            "align_self": null,
            "border": null,
            "bottom": null,
            "display": null,
            "flex": null,
            "flex_flow": null,
            "grid_area": null,
            "grid_auto_columns": null,
            "grid_auto_flow": null,
            "grid_auto_rows": null,
            "grid_column": null,
            "grid_gap": null,
            "grid_row": null,
            "grid_template_areas": null,
            "grid_template_columns": null,
            "grid_template_rows": null,
            "height": null,
            "justify_content": null,
            "justify_items": null,
            "left": null,
            "margin": null,
            "max_height": null,
            "max_width": null,
            "min_height": null,
            "min_width": null,
            "object_fit": null,
            "object_position": null,
            "order": null,
            "overflow": null,
            "overflow_x": null,
            "overflow_y": null,
            "padding": null,
            "right": null,
            "top": null,
            "visibility": null,
            "width": null
          }
        },
        "92a6157a738e4c4a9a44bd857c15f7fc": {
          "model_module": "@jupyter-widgets/base",
          "model_name": "LayoutModel",
          "model_module_version": "1.2.0",
          "state": {
            "_model_module": "@jupyter-widgets/base",
            "_model_module_version": "1.2.0",
            "_model_name": "LayoutModel",
            "_view_count": null,
            "_view_module": "@jupyter-widgets/base",
            "_view_module_version": "1.2.0",
            "_view_name": "LayoutView",
            "align_content": null,
            "align_items": null,
            "align_self": null,
            "border": null,
            "bottom": null,
            "display": null,
            "flex": null,
            "flex_flow": null,
            "grid_area": null,
            "grid_auto_columns": null,
            "grid_auto_flow": null,
            "grid_auto_rows": null,
            "grid_column": null,
            "grid_gap": null,
            "grid_row": null,
            "grid_template_areas": null,
            "grid_template_columns": null,
            "grid_template_rows": null,
            "height": null,
            "justify_content": null,
            "justify_items": null,
            "left": null,
            "margin": null,
            "max_height": null,
            "max_width": null,
            "min_height": null,
            "min_width": null,
            "object_fit": null,
            "object_position": null,
            "order": null,
            "overflow": null,
            "overflow_x": null,
            "overflow_y": null,
            "padding": null,
            "right": null,
            "top": null,
            "visibility": null,
            "width": null
          }
        },
        "c0440d10b96740a595135460a8fd9a14": {
          "model_module": "@jupyter-widgets/controls",
          "model_name": "ToggleButtonsStyleModel",
          "model_module_version": "1.5.0",
          "state": {
            "_model_module": "@jupyter-widgets/controls",
            "_model_module_version": "1.5.0",
            "_model_name": "ToggleButtonsStyleModel",
            "_view_count": null,
            "_view_module": "@jupyter-widgets/base",
            "_view_module_version": "1.2.0",
            "_view_name": "StyleView",
            "button_width": "",
            "description_width": "",
            "font_weight": ""
          }
        },
        "b110937eaaaf4d4b9a47a08935530a2c": {
          "model_module": "@jupyter-widgets/base",
          "model_name": "LayoutModel",
          "model_module_version": "1.2.0",
          "state": {
            "_model_module": "@jupyter-widgets/base",
            "_model_module_version": "1.2.0",
            "_model_name": "LayoutModel",
            "_view_count": null,
            "_view_module": "@jupyter-widgets/base",
            "_view_module_version": "1.2.0",
            "_view_name": "LayoutView",
            "align_content": null,
            "align_items": null,
            "align_self": null,
            "border": null,
            "bottom": null,
            "display": null,
            "flex": null,
            "flex_flow": null,
            "grid_area": null,
            "grid_auto_columns": null,
            "grid_auto_flow": null,
            "grid_auto_rows": null,
            "grid_column": null,
            "grid_gap": null,
            "grid_row": null,
            "grid_template_areas": null,
            "grid_template_columns": null,
            "grid_template_rows": null,
            "height": null,
            "justify_content": null,
            "justify_items": null,
            "left": null,
            "margin": null,
            "max_height": null,
            "max_width": null,
            "min_height": null,
            "min_width": null,
            "object_fit": null,
            "object_position": null,
            "order": null,
            "overflow": null,
            "overflow_x": null,
            "overflow_y": null,
            "padding": null,
            "right": null,
            "top": null,
            "visibility": null,
            "width": null
          }
        },
        "3c2c173fcb6745bfbe12d33c27e4488a": {
          "model_module": "@jupyter-widgets/controls",
          "model_name": "SliderStyleModel",
          "model_module_version": "1.5.0",
          "state": {
            "_model_module": "@jupyter-widgets/controls",
            "_model_module_version": "1.5.0",
            "_model_name": "SliderStyleModel",
            "_view_count": null,
            "_view_module": "@jupyter-widgets/base",
            "_view_module_version": "1.2.0",
            "_view_name": "StyleView",
            "description_width": "",
            "handle_color": null
          }
        },
        "f6f723ce796a4ed19cba16c4bd713060": {
          "model_module": "@jupyter-widgets/base",
          "model_name": "LayoutModel",
          "model_module_version": "1.2.0",
          "state": {
            "_model_module": "@jupyter-widgets/base",
            "_model_module_version": "1.2.0",
            "_model_name": "LayoutModel",
            "_view_count": null,
            "_view_module": "@jupyter-widgets/base",
            "_view_module_version": "1.2.0",
            "_view_name": "LayoutView",
            "align_content": null,
            "align_items": null,
            "align_self": null,
            "border": null,
            "bottom": null,
            "display": null,
            "flex": null,
            "flex_flow": null,
            "grid_area": null,
            "grid_auto_columns": null,
            "grid_auto_flow": null,
            "grid_auto_rows": null,
            "grid_column": null,
            "grid_gap": null,
            "grid_row": null,
            "grid_template_areas": null,
            "grid_template_columns": null,
            "grid_template_rows": null,
            "height": null,
            "justify_content": null,
            "justify_items": null,
            "left": null,
            "margin": null,
            "max_height": null,
            "max_width": null,
            "min_height": null,
            "min_width": null,
            "object_fit": null,
            "object_position": null,
            "order": null,
            "overflow": null,
            "overflow_x": null,
            "overflow_y": null,
            "padding": null,
            "right": null,
            "top": null,
            "visibility": null,
            "width": null
          }
        },
        "fa7bee5455d04a7a996cceb1ad05c324": {
          "model_module": "@jupyter-widgets/controls",
          "model_name": "VBoxModel",
          "model_module_version": "1.5.0",
          "state": {
            "_dom_classes": [
              "widget-interact"
            ],
            "_model_module": "@jupyter-widgets/controls",
            "_model_module_version": "1.5.0",
            "_model_name": "VBoxModel",
            "_view_count": null,
            "_view_module": "@jupyter-widgets/controls",
            "_view_module_version": "1.5.0",
            "_view_name": "VBoxView",
            "box_style": "",
            "children": [
              "IPY_MODEL_4ccf9800d1d84cfe9d244d069c0bc9d9",
              "IPY_MODEL_ffd12dc83af54be38f618dd13f9f626c"
            ],
            "layout": "IPY_MODEL_277e44b804274c9fa0dc900033827c67"
          }
        },
        "4ccf9800d1d84cfe9d244d069c0bc9d9": {
          "model_module": "@jupyter-widgets/controls",
          "model_name": "IntSliderModel",
          "model_module_version": "1.5.0",
          "state": {
            "_dom_classes": [],
            "_model_module": "@jupyter-widgets/controls",
            "_model_module_version": "1.5.0",
            "_model_name": "IntSliderModel",
            "_view_count": null,
            "_view_module": "@jupyter-widgets/controls",
            "_view_module_version": "1.5.0",
            "_view_name": "IntSliderView",
            "continuous_update": true,
            "description": "numIter",
            "description_tooltip": null,
            "disabled": false,
            "layout": "IPY_MODEL_73079c274dfa4f9da5c6513bb46bbd6f",
            "max": 20,
            "min": 0,
            "orientation": "horizontal",
            "readout": true,
            "readout_format": "d",
            "step": 1,
            "style": "IPY_MODEL_c48bcff2d7124bc585a2e9cc3c95cf75",
            "value": 0
          }
        },
        "ffd12dc83af54be38f618dd13f9f626c": {
          "model_module": "@jupyter-widgets/output",
          "model_name": "OutputModel",
          "model_module_version": "1.0.0",
          "state": {
            "_dom_classes": [],
            "_model_module": "@jupyter-widgets/output",
            "_model_module_version": "1.0.0",
            "_model_name": "OutputModel",
            "_view_count": null,
            "_view_module": "@jupyter-widgets/output",
            "_view_module_version": "1.0.0",
            "_view_name": "OutputView",
            "layout": "IPY_MODEL_8651ffef6afc4df590772c022fedae68",
            "msg_id": "",
            "outputs": [
              {
                "output_type": "stream",
                "name": "stdout",
                "text": [
                  "time= 6.74\n"
                ]
              },
              {
                "output_type": "display_data",
                "data": {
                  "text/plain": "<Figure size 300x300 with 2 Axes>",
                  "image/png": "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\n"
                },
                "metadata": {}
              }
            ]
          }
        },
        "277e44b804274c9fa0dc900033827c67": {
          "model_module": "@jupyter-widgets/base",
          "model_name": "LayoutModel",
          "model_module_version": "1.2.0",
          "state": {
            "_model_module": "@jupyter-widgets/base",
            "_model_module_version": "1.2.0",
            "_model_name": "LayoutModel",
            "_view_count": null,
            "_view_module": "@jupyter-widgets/base",
            "_view_module_version": "1.2.0",
            "_view_name": "LayoutView",
            "align_content": null,
            "align_items": null,
            "align_self": null,
            "border": null,
            "bottom": null,
            "display": null,
            "flex": null,
            "flex_flow": null,
            "grid_area": null,
            "grid_auto_columns": null,
            "grid_auto_flow": null,
            "grid_auto_rows": null,
            "grid_column": null,
            "grid_gap": null,
            "grid_row": null,
            "grid_template_areas": null,
            "grid_template_columns": null,
            "grid_template_rows": null,
            "height": null,
            "justify_content": null,
            "justify_items": null,
            "left": null,
            "margin": null,
            "max_height": null,
            "max_width": null,
            "min_height": null,
            "min_width": null,
            "object_fit": null,
            "object_position": null,
            "order": null,
            "overflow": null,
            "overflow_x": null,
            "overflow_y": null,
            "padding": null,
            "right": null,
            "top": null,
            "visibility": null,
            "width": null
          }
        },
        "73079c274dfa4f9da5c6513bb46bbd6f": {
          "model_module": "@jupyter-widgets/base",
          "model_name": "LayoutModel",
          "model_module_version": "1.2.0",
          "state": {
            "_model_module": "@jupyter-widgets/base",
            "_model_module_version": "1.2.0",
            "_model_name": "LayoutModel",
            "_view_count": null,
            "_view_module": "@jupyter-widgets/base",
            "_view_module_version": "1.2.0",
            "_view_name": "LayoutView",
            "align_content": null,
            "align_items": null,
            "align_self": null,
            "border": null,
            "bottom": null,
            "display": null,
            "flex": null,
            "flex_flow": null,
            "grid_area": null,
            "grid_auto_columns": null,
            "grid_auto_flow": null,
            "grid_auto_rows": null,
            "grid_column": null,
            "grid_gap": null,
            "grid_row": null,
            "grid_template_areas": null,
            "grid_template_columns": null,
            "grid_template_rows": null,
            "height": null,
            "justify_content": null,
            "justify_items": null,
            "left": null,
            "margin": null,
            "max_height": null,
            "max_width": null,
            "min_height": null,
            "min_width": null,
            "object_fit": null,
            "object_position": null,
            "order": null,
            "overflow": null,
            "overflow_x": null,
            "overflow_y": null,
            "padding": null,
            "right": null,
            "top": null,
            "visibility": null,
            "width": null
          }
        },
        "c48bcff2d7124bc585a2e9cc3c95cf75": {
          "model_module": "@jupyter-widgets/controls",
          "model_name": "SliderStyleModel",
          "model_module_version": "1.5.0",
          "state": {
            "_model_module": "@jupyter-widgets/controls",
            "_model_module_version": "1.5.0",
            "_model_name": "SliderStyleModel",
            "_view_count": null,
            "_view_module": "@jupyter-widgets/base",
            "_view_module_version": "1.2.0",
            "_view_name": "StyleView",
            "description_width": "",
            "handle_color": null
          }
        },
        "8651ffef6afc4df590772c022fedae68": {
          "model_module": "@jupyter-widgets/base",
          "model_name": "LayoutModel",
          "model_module_version": "1.2.0",
          "state": {
            "_model_module": "@jupyter-widgets/base",
            "_model_module_version": "1.2.0",
            "_model_name": "LayoutModel",
            "_view_count": null,
            "_view_module": "@jupyter-widgets/base",
            "_view_module_version": "1.2.0",
            "_view_name": "LayoutView",
            "align_content": null,
            "align_items": null,
            "align_self": null,
            "border": null,
            "bottom": null,
            "display": null,
            "flex": null,
            "flex_flow": null,
            "grid_area": null,
            "grid_auto_columns": null,
            "grid_auto_flow": null,
            "grid_auto_rows": null,
            "grid_column": null,
            "grid_gap": null,
            "grid_row": null,
            "grid_template_areas": null,
            "grid_template_columns": null,
            "grid_template_rows": null,
            "height": null,
            "justify_content": null,
            "justify_items": null,
            "left": null,
            "margin": null,
            "max_height": null,
            "max_width": null,
            "min_height": null,
            "min_width": null,
            "object_fit": null,
            "object_position": null,
            "order": null,
            "overflow": null,
            "overflow_x": null,
            "overflow_y": null,
            "padding": null,
            "right": null,
            "top": null,
            "visibility": null,
            "width": null
          }
        },
        "163f53905934465785047ded6abbea28": {
          "model_module": "@jupyter-widgets/controls",
          "model_name": "VBoxModel",
          "model_module_version": "1.5.0",
          "state": {
            "_dom_classes": [
              "widget-interact"
            ],
            "_model_module": "@jupyter-widgets/controls",
            "_model_module_version": "1.5.0",
            "_model_name": "VBoxModel",
            "_view_count": null,
            "_view_module": "@jupyter-widgets/controls",
            "_view_module_version": "1.5.0",
            "_view_name": "VBoxView",
            "box_style": "",
            "children": [
              "IPY_MODEL_50a5c5150f4e4c1aa3a27a67d915436c",
              "IPY_MODEL_271e8d080d774c309a28d524f1f6bbfa"
            ],
            "layout": "IPY_MODEL_935a8e0df55d4ecfa29ea8007daf35da"
          }
        },
        "50a5c5150f4e4c1aa3a27a67d915436c": {
          "model_module": "@jupyter-widgets/controls",
          "model_name": "IntSliderModel",
          "model_module_version": "1.5.0",
          "state": {
            "_dom_classes": [],
            "_model_module": "@jupyter-widgets/controls",
            "_model_module_version": "1.5.0",
            "_model_name": "IntSliderModel",
            "_view_count": null,
            "_view_module": "@jupyter-widgets/controls",
            "_view_module_version": "1.5.0",
            "_view_name": "IntSliderView",
            "continuous_update": true,
            "description": "numIter",
            "description_tooltip": null,
            "disabled": false,
            "layout": "IPY_MODEL_a7338a0a6ba346608946433df18c4215",
            "max": 20,
            "min": 0,
            "orientation": "horizontal",
            "readout": true,
            "readout_format": "d",
            "step": 1,
            "style": "IPY_MODEL_4309636573b642a7b7d3b668df2bf347",
            "value": 0
          }
        },
        "271e8d080d774c309a28d524f1f6bbfa": {
          "model_module": "@jupyter-widgets/output",
          "model_name": "OutputModel",
          "model_module_version": "1.0.0",
          "state": {
            "_dom_classes": [],
            "_model_module": "@jupyter-widgets/output",
            "_model_module_version": "1.0.0",
            "_model_name": "OutputModel",
            "_view_count": null,
            "_view_module": "@jupyter-widgets/output",
            "_view_module_version": "1.0.0",
            "_view_name": "OutputView",
            "layout": "IPY_MODEL_bf8ca1886ebb4d339df817860e82281b",
            "msg_id": "",
            "outputs": [
              {
                "output_type": "stream",
                "name": "stdout",
                "text": [
                  "time= 0.15\n"
                ]
              },
              {
                "output_type": "display_data",
                "data": {
                  "text/plain": "<Figure size 300x300 with 2 Axes>",
                  "image/png": "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\n"
                },
                "metadata": {}
              }
            ]
          }
        },
        "935a8e0df55d4ecfa29ea8007daf35da": {
          "model_module": "@jupyter-widgets/base",
          "model_name": "LayoutModel",
          "model_module_version": "1.2.0",
          "state": {
            "_model_module": "@jupyter-widgets/base",
            "_model_module_version": "1.2.0",
            "_model_name": "LayoutModel",
            "_view_count": null,
            "_view_module": "@jupyter-widgets/base",
            "_view_module_version": "1.2.0",
            "_view_name": "LayoutView",
            "align_content": null,
            "align_items": null,
            "align_self": null,
            "border": null,
            "bottom": null,
            "display": null,
            "flex": null,
            "flex_flow": null,
            "grid_area": null,
            "grid_auto_columns": null,
            "grid_auto_flow": null,
            "grid_auto_rows": null,
            "grid_column": null,
            "grid_gap": null,
            "grid_row": null,
            "grid_template_areas": null,
            "grid_template_columns": null,
            "grid_template_rows": null,
            "height": null,
            "justify_content": null,
            "justify_items": null,
            "left": null,
            "margin": null,
            "max_height": null,
            "max_width": null,
            "min_height": null,
            "min_width": null,
            "object_fit": null,
            "object_position": null,
            "order": null,
            "overflow": null,
            "overflow_x": null,
            "overflow_y": null,
            "padding": null,
            "right": null,
            "top": null,
            "visibility": null,
            "width": null
          }
        },
        "a7338a0a6ba346608946433df18c4215": {
          "model_module": "@jupyter-widgets/base",
          "model_name": "LayoutModel",
          "model_module_version": "1.2.0",
          "state": {
            "_model_module": "@jupyter-widgets/base",
            "_model_module_version": "1.2.0",
            "_model_name": "LayoutModel",
            "_view_count": null,
            "_view_module": "@jupyter-widgets/base",
            "_view_module_version": "1.2.0",
            "_view_name": "LayoutView",
            "align_content": null,
            "align_items": null,
            "align_self": null,
            "border": null,
            "bottom": null,
            "display": null,
            "flex": null,
            "flex_flow": null,
            "grid_area": null,
            "grid_auto_columns": null,
            "grid_auto_flow": null,
            "grid_auto_rows": null,
            "grid_column": null,
            "grid_gap": null,
            "grid_row": null,
            "grid_template_areas": null,
            "grid_template_columns": null,
            "grid_template_rows": null,
            "height": null,
            "justify_content": null,
            "justify_items": null,
            "left": null,
            "margin": null,
            "max_height": null,
            "max_width": null,
            "min_height": null,
            "min_width": null,
            "object_fit": null,
            "object_position": null,
            "order": null,
            "overflow": null,
            "overflow_x": null,
            "overflow_y": null,
            "padding": null,
            "right": null,
            "top": null,
            "visibility": null,
            "width": null
          }
        },
        "4309636573b642a7b7d3b668df2bf347": {
          "model_module": "@jupyter-widgets/controls",
          "model_name": "SliderStyleModel",
          "model_module_version": "1.5.0",
          "state": {
            "_model_module": "@jupyter-widgets/controls",
            "_model_module_version": "1.5.0",
            "_model_name": "SliderStyleModel",
            "_view_count": null,
            "_view_module": "@jupyter-widgets/base",
            "_view_module_version": "1.2.0",
            "_view_name": "StyleView",
            "description_width": "",
            "handle_color": null
          }
        },
        "bf8ca1886ebb4d339df817860e82281b": {
          "model_module": "@jupyter-widgets/base",
          "model_name": "LayoutModel",
          "model_module_version": "1.2.0",
          "state": {
            "_model_module": "@jupyter-widgets/base",
            "_model_module_version": "1.2.0",
            "_model_name": "LayoutModel",
            "_view_count": null,
            "_view_module": "@jupyter-widgets/base",
            "_view_module_version": "1.2.0",
            "_view_name": "LayoutView",
            "align_content": null,
            "align_items": null,
            "align_self": null,
            "border": null,
            "bottom": null,
            "display": null,
            "flex": null,
            "flex_flow": null,
            "grid_area": null,
            "grid_auto_columns": null,
            "grid_auto_flow": null,
            "grid_auto_rows": null,
            "grid_column": null,
            "grid_gap": null,
            "grid_row": null,
            "grid_template_areas": null,
            "grid_template_columns": null,
            "grid_template_rows": null,
            "height": null,
            "justify_content": null,
            "justify_items": null,
            "left": null,
            "margin": null,
            "max_height": null,
            "max_width": null,
            "min_height": null,
            "min_width": null,
            "object_fit": null,
            "object_position": null,
            "order": null,
            "overflow": null,
            "overflow_x": null,
            "overflow_y": null,
            "padding": null,
            "right": null,
            "top": null,
            "visibility": null,
            "width": null
          }
        }
      }
    }
  },
  "nbformat": 4,
  "nbformat_minor": 0
}